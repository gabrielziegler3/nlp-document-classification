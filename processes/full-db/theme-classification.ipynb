{
 "cells": [
  {
   "cell_type": "markdown",
   "metadata": {
    "slideshow": {
     "slide_type": "slide"
    }
   },
   "source": [
    "# Document classification\n",
    "\n",
    "## XGBoost\n",
    "\n",
    "Gabriel Ziegler\n",
    "\n",
    "## Data\n",
    "\n",
    "Tagged by lawyers on challenger\n",
    "\n",
    "|column|value|\n",
    "|------|-----|\n",
    "|document_id|Document id in database|\n",
    "|first_page|Only the text content of first page for each document|\n",
    "|label|Label of especialists|\n",
    "\n",
    "Dump date:\n",
    "\n",
    "* 27-06-2018\n",
    "* 26-06-2018\n",
    "\n",
    "Dataset's proportions:\n",
    "\n",
    "* 70% train\n",
    "* 20% validation\n",
    "* 10% test"
   ]
  },
  {
   "cell_type": "markdown",
   "metadata": {
    "slideshow": {
     "slide_type": "skip"
    }
   },
   "source": [
    "# Imports"
   ]
  },
  {
   "cell_type": "code",
   "execution_count": 1,
   "metadata": {
    "slideshow": {
     "slide_type": "skip"
    }
   },
   "outputs": [],
   "source": [
    "import pandas as pd\n",
    "import seaborn as sns\n",
    "import matplotlib.pyplot as plt\n",
    "import spacy as sp\n",
    "import numpy as np\n",
    "import paramiko\n",
    "import os, sys\n",
    "import multiprocessing\n",
    "import tensorflow as tf\n",
    "import joblib\n",
    "\n",
    "from sklearn.preprocessing import LabelBinarizer, LabelEncoder\n",
    "from sklearn.feature_extraction.text import TfidfVectorizer, CountVectorizer\n",
    "from sklearn.metrics import (\n",
    "    accuracy_score, classification_report,\n",
    "    confusion_matrix, precision_score,\n",
    "    recall_score, precision_recall_fscore_support, f1_score\n",
    ")\n",
    "\n",
    "from nltk.corpus import stopwords\n",
    "from scipy.special import comb\n",
    "\n",
    "from tqdm import tqdm\n",
    "\n",
    "import xgboost as xgb\n",
    "from xgboost import XGBClassifier\n",
    "\n",
    "from IPython.display import display, HTML\n",
    "from IPython.core.interactiveshell import InteractiveShell\n",
    "InteractiveShell.ast_node_interactivity = \"all\""
   ]
  },
  {
   "cell_type": "markdown",
   "metadata": {},
   "source": [
    "# Dataset\n",
    "## Loading"
   ]
  },
  {
   "cell_type": "code",
   "execution_count": 4,
   "metadata": {},
   "outputs": [],
   "source": [
    "sys.path.append('../../../db/')\n",
    "sys.path.append('../../../helpers/')\n",
    "from commit import connect\n",
    "\n",
    "query_result = connect()"
   ]
  },
  {
   "cell_type": "code",
   "execution_count": null,
   "metadata": {},
   "outputs": [],
   "source": []
  },
  {
   "cell_type": "code",
   "execution_count": 52,
   "metadata": {
    "slideshow": {
     "slide_type": "slide"
    }
   },
   "outputs": [],
   "source": [
    "# import json from NAS\n",
    "host = \"hehet.lades.unb.br\"\n",
    "port = 22\n",
    "transport = paramiko.Transport((host, port))\n",
    "\n",
    "password=\"L@desehet\"\n",
    "username=\"hehet\"\n",
    "transport.connect(username=username, password=password)\n",
    "sftp = paramiko.SFTPClient.from_transport(transport)"
   ]
  },
  {
   "cell_type": "code",
   "execution_count": 53,
   "metadata": {
    "slideshow": {
     "slide_type": "skip"
    }
   },
   "outputs": [
    {
     "data": {
      "text/html": [
       "<div>\n",
       "<style scoped>\n",
       "    .dataframe tbody tr th:only-of-type {\n",
       "        vertical-align: middle;\n",
       "    }\n",
       "\n",
       "    .dataframe tbody tr th {\n",
       "        vertical-align: top;\n",
       "    }\n",
       "\n",
       "    .dataframe thead th {\n",
       "        text-align: right;\n",
       "    }\n",
       "</style>\n",
       "<table border=\"1\" class=\"dataframe\">\n",
       "  <thead>\n",
       "    <tr style=\"text-align: right;\">\n",
       "      <th></th>\n",
       "      <th>label</th>\n",
       "      <th>pages</th>\n",
       "      <th>first_page</th>\n",
       "    </tr>\n",
       "  </thead>\n",
       "  <tbody>\n",
       "    <tr>\n",
       "      <th>0</th>\n",
       "      <td>ARE</td>\n",
       "      <td>[{'index': 0, 'body': '(e-STJ Fl.278)\\n DEFENS...</td>\n",
       "      <td>(e-STJ Fl.278)\\n DEFENSORIA PÚBLICA DA UNIÃO N...</td>\n",
       "    </tr>\n",
       "    <tr>\n",
       "      <th>1</th>\n",
       "      <td>ARE</td>\n",
       "      <td>[{'index': 0, 'body': \"   \\n  \\n \\n\\n \\n\\n(e-S...</td>\n",
       "      <td>\\n  \\n \\n\\n \\n\\n(e-STJ FI.248)i!3\\n\\n3H\\n\\n...</td>\n",
       "    </tr>\n",
       "    <tr>\n",
       "      <th>2</th>\n",
       "      <td>ARE</td>\n",
       "      <td>[{'index': 0, 'body': '2009.71.55.001920-7 Pre...</td>\n",
       "      <td>2009.71.55.001920-7 Presidência da 2ª Turma Re...</td>\n",
       "    </tr>\n",
       "    <tr>\n",
       "      <th>3</th>\n",
       "      <td>ARE</td>\n",
       "      <td>[{'index': 0, 'body': '1\\nEXCELENTÍSSIMO (A) S...</td>\n",
       "      <td>1\\nEXCELENTÍSSIMO (A) SENHOR (A) DOUTOR (A) JU...</td>\n",
       "    </tr>\n",
       "    <tr>\n",
       "      <th>4</th>\n",
       "      <td>ARE</td>\n",
       "      <td>[{'index': 0, 'body': '2009.71.58.011511-9 Pre...</td>\n",
       "      <td>2009.71.58.011511-9 Presidência da 2ª Turma Re...</td>\n",
       "    </tr>\n",
       "  </tbody>\n",
       "</table>\n",
       "</div>"
      ],
      "text/plain": [
       "  label                                              pages  \\\n",
       "0   ARE  [{'index': 0, 'body': '(e-STJ Fl.278)\\n DEFENS...   \n",
       "1   ARE  [{'index': 0, 'body': \"   \\n  \\n \\n\\n \\n\\n(e-S...   \n",
       "2   ARE  [{'index': 0, 'body': '2009.71.55.001920-7 Pre...   \n",
       "3   ARE  [{'index': 0, 'body': '1\\nEXCELENTÍSSIMO (A) S...   \n",
       "4   ARE  [{'index': 0, 'body': '2009.71.58.011511-9 Pre...   \n",
       "\n",
       "                                          first_page  \n",
       "0  (e-STJ Fl.278)\\n DEFENSORIA PÚBLICA DA UNIÃO N...  \n",
       "1     \\n  \\n \\n\\n \\n\\n(e-STJ FI.248)i!3\\n\\n3H\\n\\n...  \n",
       "2  2009.71.55.001920-7 Presidência da 2ª Turma Re...  \n",
       "3  1\\nEXCELENTÍSSIMO (A) SENHOR (A) DOUTOR (A) JU...  \n",
       "4  2009.71.58.011511-9 Presidência da 2ª Turma Re...  "
      ]
     },
     "execution_count": 53,
     "metadata": {},
     "output_type": "execute_result"
    }
   ],
   "source": [
    "path_train='/mnt/lvm/lvm_array2/lvm101_GPAM/Pecas/01-08-2018/train-01-08-2018-wo-duplicates.csv'\n",
    "file_csv = sftp.file(path_train)\n",
    "train = pd.read_csv(file_csv, usecols=['label', 'first_page', 'pages', ])\n",
    "\n",
    "path_test='/mnt/lvm/lvm_array2/lvm101_GPAM/Pecas/01-08-2018/test-01-08-2018-wo-duplicates.csv'\n",
    "file_csv = sftp.file(path_test)\n",
    "test = pd.read_csv(file_csv, usecols=['label', 'first_page', 'pages', ])\n",
    "\n",
    "path_validation='/mnt/lvm/lvm_array2/lvm101_GPAM/Pecas/01-08-2018/validation-01-08-2018-wo-duplicates.csv'\n",
    "file_csv = sftp.file(path_validation)\n",
    "validation = pd.read_csv(file_csv, usecols=['label', 'first_page', 'pages', ])\n",
    "\n",
    "train.head()"
   ]
  },
  {
   "cell_type": "code",
   "execution_count": 54,
   "metadata": {
    "scrolled": false,
    "slideshow": {
     "slide_type": "slide"
    }
   },
   "outputs": [
    {
     "name": "stdout",
     "output_type": "stream",
     "text": [
      "Train\n",
      "ARE         640\n",
      "Acordão     573\n",
      "Desp.       388\n",
      "Outro      1961\n",
      "RE          440\n",
      "Sent.       767\n",
      "Name: label, dtype: int64\n",
      "\n",
      "Validation\n",
      "ARE        183\n",
      "Acordão    164\n",
      "Desp.      111\n",
      "Outro      561\n",
      "RE         125\n",
      "Sent.      219\n",
      "Name: label, dtype: int64\n",
      "\n",
      "Teste\n",
      "ARE         92\n",
      "Acordão     82\n",
      "Desp.       55\n",
      "Outro      280\n",
      "RE          63\n",
      "Sent.      110\n",
      "Name: label, dtype: int64\n",
      "\n",
      "Total\n",
      "ARE         915\n",
      "Acordão     819\n",
      "Desp.       554\n",
      "Outro      2802\n",
      "RE          628\n",
      "Sent.      1096\n",
      "Name: label, dtype: int64\n",
      "\n",
      "Count:  6814\n"
     ]
    }
   ],
   "source": [
    "train = train[(train.label != 'D. Agrav') & (train.label != 'P. Agrav')]\n",
    "test = test[(test.label != 'D. Agrav') & (test.label != 'P. Agrav')]\n",
    "validation = validation[(validation.label != 'D. Agrav') & (validation.label != 'P. Agrav')]\n",
    "\n",
    "labels_index = train.label.value_counts().index.sort_values()\n",
    "\n",
    "label_train = train.label.value_counts()[labels_index]\n",
    "label_validation = validation.label.value_counts()[labels_index]\n",
    "label_test = test.label.value_counts()[labels_index]\n",
    "labels = (test.label.value_counts() + validation.label.value_counts() + train.label.value_counts())[labels_index]\n",
    "print(\"Train\")\n",
    "print(label_train[labels_index])\n",
    "print(\"\\nValidation\")\n",
    "print(label_validation[labels_index])\n",
    "print(\"\\nTeste\")\n",
    "print(label_test[labels_index])\n",
    "print(\"\\nTotal\")\n",
    "print(labels)\n",
    "print(\"\\nCount: \", labels.sum())"
   ]
  },
  {
   "cell_type": "markdown",
   "metadata": {},
   "source": [
    "# Visually see document text corpus"
   ]
  },
  {
   "cell_type": "code",
   "execution_count": 67,
   "metadata": {
    "scrolled": true
   },
   "outputs": [
    {
     "data": {
      "text/plain": [
       "'[{\\'index\\': 0, \\'body\\': \\'(e-STJ Fl.278)\\\\n DEFENSORIA PÚBLICA DA UNIÃO N O R I O\\\\n D E J A N E I R O\\\\n TRF2\\\\n Paj: 2014/016-16082\\\\n Fls 278\\\\n EXMO. SR. DR. DESEMBARGADOR FEDERAL PRESIDENTE DO EGRÉGIO\\\\n TRIBUNAL REGIONAL FEDERAL DA 2ª REGIÃO\\\\n Processo nº 0008510-56.2011.4.02.5001\\\\n Objeto: Agravo contra Negativa de Seguimento de Recurso Extraordinário\\\\n Documento No: 73257-88-0-278-9-822389 - consulta à autenticidade do documento através do site http://portal.trf2.jus.br/autenticidade\\\\n CRISTIANO REIS SIQUEIRA, devidamente qualificado nos presentes\\\\n autos, assistida pela DEFENSORIA PÚBLICA DA UNIÃO, vem, no prazo em dobro\\\\n contado de sua intimação pessoal com vista dos autos (art. 44, inciso I, da Lei\\\\n Protocolada por Flávio Luiz Marques Penna Marinho em 11/05/2016 17:31:42. (Processo: 0008510-56.2011.4.02.5001 - Petição: 2016.6000.039672-4) .\\\\n Complementar nº 80/94, com redação dada pela Lei Complementar nº 132/2009),\\\\n apresentar, na forma do artigo 1042 do Código de Processo Civil de 2015\\\\n AGRAVO\\\\n contra a negativa de seguimento do Recurso Extraordinário interposto, na forma das\\\\n razões recursais acostadas.\\\\n Requer ainda a remessa ao Egrégio Supremo Tribunal Federal,\\\\n independentemente de recolhimento de taxas judiciais e custas, vez que o recorrente se\\\\n encontra litigando sob os auspícios da gratuidade de justiça, sendo aplicável o disposto no\\\\n Assinado eletronicamente. Certificação digital pertencente a FABIANO MENDONCA FURTADO.\\\\n art. 13, parágrafo único, da Lei nº 11.636/2007.\\\\n Termos em que,\\\\n Pede Deferimento.\\\\n Rio de Janeiro, 11 de maio de 2016.\\\\n Flávio Luiz Marques Penna Marinho\\\\n Defensor Público Federal\\\\nDocumento recebido eletronicamente da origem\\\\n 1\\', \\'needs_ocr\\': False}, {\\'index\\': 1, \\'body\\': \\'(e-STJ Fl.279)\\\\n DEFENSORIA PÚBLICA DA UNIÃO N O R I O\\\\n D E J A N E I R O\\\\n TRF2\\\\n Paj: 2014/016-16082\\\\n Fls 279\\\\n Objeto: Agravo contra negativa de seguimento do Recurso Extraordinário\\\\n Eminentes Ministros\\\\n Documento No: 73257-88-0-278-9-822389 - consulta à autenticidade do documento através do site http://portal.trf2.jus.br/autenticidade\\\\n Lastreado no teor do art. 1042 do e se valendo da garantia constitucional do\\\\n Protocolada por Flávio Luiz Marques Penna Marinho em 11/05/2016 17:31:42. (Processo: 0008510-56.2011.4.02.5001 - Petição: 2016.6000.039672-4) .\\\\n duplo grau de jurisdição, o recorrente interpõe o presente agravo a fim de ver reparada a\\\\n decisão judicial prestada pela Vice-Presidência do Tribunal Regional Federal da 2ª Região,\\\\n a qual negou seguimento ao Recurso Extraordinário.\\\\n O presente agravo é interposto nos próprios autos em razão da Lei nº\\\\n 12.322/2010, publicada no DOU de 10/09/2010, que alterou o procedimento do recurso em\\\\n sua modalidade de agravo nesta hipótese e foi endossada com a publicação do CPC/15,\\\\n na esteira do art. 1042 e do Enunciado 225 do Fórum Permanente de Processualistas\\\\n Civis (“ O agravo em recurso especial e extraordinário será interposto nos próprios autos).\\\\n 1 – DO CABIMENTO DO RECURSO EXTRAORDINÁRIO\\\\n Assinado eletronicamente. Certificação digital pertencente a FABIANO MENDONCA FURTADO.\\\\n Em que pese todo o saber jurídico ostentado pelo Exmo. Vice-Presidente do\\\\n TRF-2ª Região e a notória e necessária sensibilidade social em seus julgados, temos que,\\\\n no presente caso, não agiu com o costumeiro acerto a r. decisão monocrática, vez que, ao\\\\n contrário do que sustenta, o recurso extraordinário preenche todos os requisitos de\\\\n admissibilidade. Senão vejamos.\\\\n Inicialmente, não há que se falar em ausência de fundamentação\\\\n constitucional da decisão da Turma Especializada do Tribunal Regional Federal da 2ª\\\\n Região, senão vejamos:\\\\nDocumento recebido eletronicamente da origem\\\\n A questão controvertida posta nos autos sempre foi debatida sob o\\\\n enfoque da existência de violação do devido processo legal (art. 5º, inciso LIV, da\\\\n CRFB/88) e de seus corolários do contraditório e da ampla defesa (art. 5º, inciso LV,\\\\n da CRFB/88), e a violação do acesso à justiça (art. 5º, inciso XXXV, da CRFB/88),\\\\n 2\\', \\'needs_ocr\\': False}, {\\'index\\': 2, \\'body\\': \\'(e-STJ Fl.280)\\\\n DEFENSORIA PÚBLICA DA UNIÃO N O R I O\\\\n D E J A N E I R O\\\\n TRF2\\\\n Paj: 2014/016-16082\\\\n Fls 280\\\\n especialmente no que diz respeito à violação do direito à ampla possibilidade de\\\\n produção de prova dos fatos impeditivos, modificativos e extintivos do dreito do\\\\n Autor, apesar de ter o réu requerido oportunamente a produção de prova dos fatos\\\\n relacionados à defesa.\\\\n Ademais, como questão nodal, a constitucionalidade da MP 2170-\\\\n 36/01 frente ao Decreto 22626/31 (Lei da Usura), quanto à capitalização mensal de\\\\n Documento No: 73257-88-0-278-9-822389 - consulta à autenticidade do documento através do site http://portal.trf2.jus.br/autenticidade\\\\n juros em contratos rotativos com instituições financeiras.\\\\n Assim, não há que falar em ausência de prequestionamento de matéria\\\\n constitucional e apreciação pela Turma Especializada do Tribunal Regional Federal da\\\\n Protocolada por Flávio Luiz Marques Penna Marinho em 11/05/2016 17:31:42. (Processo: 0008510-56.2011.4.02.5001 - Petição: 2016.6000.039672-4) .\\\\n matéria controvertida nos presentes autos apenas sob enfoque meramente\\\\n infraconstitucional, ficando, por todo o exposto acima, evidente que a questão foi\\\\n claramente suscitada e enfrentada também sob o enfoque constitucional, desafiando,\\\\n portanto, o recurso extraordinário, o qual evidentemente preenche os requisitos\\\\n constitucionais e legais, devendo, pois, ser admitido e provido.\\\\n Quanto à necessidade de reexame de prova, cumpre observar o que\\\\n dispõe a Súmula nº 279 do Supremo Tribunal Federal.\\\\n “Para simples reexame de prova não cabe\\\\n recurso extraordinário.”\\\\n (Súmula 279 STF)\\\\n Assinado eletronicamente. Certificação digital pertencente a FABIANO MENDONCA FURTADO.\\\\n Na redação da própria súmula pode-se extrair que a vedação incide sobre\\\\n o SIMPLES REEXAME DE PROVA, o qual na própria visão desta Corte Suprema não se\\\\n confunde com a REVALORAÇÃO DA PROVA, em sede de recurso especial.\\\\n A REVALORAÇÃO DA PROVA pretendida no presente recurso é relativa\\\\n a dados explicitamente admitidos e delineados no decisório recorrido, por si só, suficientes\\\\n para a solução do caso, com sua reforma, não implicando no vedado reexame do material\\\\n de conhecimento.\\\\n Sobre a possibilidade de proceder à revaloração da prova ou de dados\\\\nDocumento recebido eletronicamente da origem\\\\n delimitados no próprio acórdão recorrido, é imperiosa a transcrição dos seguintes\\\\n precedentes que demonstram o posicionamento pacífico acerca do tema adotado por\\\\n todas as Turmas deste Egrégio Superior Tribunal de Justiça, cujo raciocínio mostra-se\\\\n perfeitamente aplicável ao caso em comento:\\\\n 3\\', \\'needs_ocr\\': False}, {\\'index\\': 3, \\'body\\': \"(e-STJ Fl.281)\\\\n DEFENSORIA PÚBLICA DA UNIÃO N O R I O\\\\n D E J A N E I R O\\\\n TRF2\\\\n Paj: 2014/016-16082\\\\n Fls 281\\\\n AGRAVO REGIMENTAL. SUS. FORNECIMENTO DE\\\\n MEDICAMENTO. PACIENTE PORTADOR DE EPILEPSIA. DIREITO À VIDA E\\\\n À SAÚDE. DEVER DO ESTADO. LEGITIMIDADE. CORRETA VALORAÇÃO DA\\\\n PROVA.\\\\n 1. Ação objetivando a condenação da entidade pública ao\\\\n fornecimento gratuito dos medicamentos necessários ao tratamento de\\\\n Documento No: 73257-88-0-278-9-822389 - consulta à autenticidade do documento através do site http://portal.trf2.jus.br/autenticidade\\\\n Epilepsia.\\\\n 2. O Sistema Único de Saúde-SUS visa a integralidade da\\\\n assistência à saúde, seja individual ou coletiva, devendo atender aos que dela\\\\n necessitem em qualquer grau de complexidade, de modo que, restando\\\\n Protocolada por Flávio Luiz Marques Penna Marinho em 11/05/2016 17:31:42. (Processo: 0008510-56.2011.4.02.5001 - Petição: 2016.6000.039672-4) .\\\\n comprovado o acometimento do indivíduo ou de um grupo por determinada\\\\n moléstia, necessitando de determinado medicamento para debelá-la, este deve\\\\n ser fornecido, de modo a atender ao princípio maior, que é a garantia à vida\\\\n digna.\\\\n 3. Configurada a necessidade do recorrente de ver\\\\n atendida a sua pretensão posto legítima e constitucionalmente garantida, uma\\\\n vez assegurado o direito à saúde e, em última instância, à vida. A saúde, como\\\\n de sabença, é direito de todos e dever do Estado.\\\\n 4. O Estado é parte legítima para figurar no pólo passivo\\\\n nas demandas cuja pretensão é o fornecimento de medicamentos\\\\n imprescindíveis à saúde de pessoa carente.\\\\n 5. A violação do art. 535 do CPC ocorre quando há\\\\n Assinado eletronicamente. Certificação digital pertencente a FABIANO MENDONCA FURTADO.\\\\n omissão, obscuridade ou contrariedade no acórdão recorrido. Inocorre a violação\\\\n posto não estar o juiz obrigado a tecer comentários exaustivos sobre todos os\\\\n pontos alegados pela parte, mas antes, a analisar as questões relevantes para o\\\\n deslinde da controvérsia.\\\\n 6. In casu, \\'\\'A revaloração da prova ou de dados\\\\n explicitamente admitidos e delineados no decisório recorrido não implica\\\\n no vedado reexame do material de conhecimento.\\'\\' (REsp 683702 / RS,\\\\n Ministro FELIX FISCHER, DJ 02.05.2005).\\\\n 7. Agravo Regimental desprovido.\\\\n (AgRg no REsp 757.012/RJ, Rel. Ministro LUIZ FUX,\\\\n PRIMEIRA TURMA, julgado em 11/10/2005, DJ 24/10/2005 p. 215)\\\\nDocumento recebido eletronicamente da origem\\\\n ADMINISTRATIVO E PROCESSUAL CIVIL. RECURSO\\\\n ESPECIAL INTERPOSTO EM MOMENTO ANTERIOR AO JULGAMENTO DE\\\\n EMBARGOS DE DECLARAÇÃO. RATIFICAÇÃO INEXISTENTE.\\\\n 4\", \\'needs_ocr\\': False}, {\\'index\\': 4, \\'body\\': \\'(e-STJ Fl.282)\\\\n DEFENSORIA PÚBLICA DA UNIÃO N O R I O\\\\n D E J A N E I R O\\\\n TRF2\\\\n Paj: 2014/016-16082\\\\n Fls 282\\\\n INTEMPESTIVIDADE. RESPONSABILIDADE CIVIL DO ESTADO. TRABALHO\\\\n INSALUBRE SEM A NECESSÁRIA PROTEÇÃO. DEFICIÊNCIA AUDITIVA\\\\n PERMANENTE E PROGRESSIVA. AUMENTO DA INDENIZAÇÃO. CASO\\\\n CONCRETO. POSSIBILIDADE.\\\\n 1. É necessária a ratificação do reclamo especial aviado\\\\n em momento anterior ao julgamento dos embargos de declaração, mesmo\\\\n quando opostos pela parte contrária, sob pena de intempestividade. Precedente\\\\n Documento No: 73257-88-0-278-9-822389 - consulta à autenticidade do documento através do site http://portal.trf2.jus.br/autenticidade\\\\n da Corte Especial.\\\\n 2. Para decidir pelo dever de indenizar da Universidade\\\\n Federal de Santa Maria/RS em face de Dejanir Oliveira da Silva, servidor da\\\\n autarquia, o Tribunal Regional valeu-se dos seguintes fundamentos\\\\n Protocolada por Flávio Luiz Marques Penna Marinho em 11/05/2016 17:31:42. (Processo: 0008510-56.2011.4.02.5001 - Petição: 2016.6000.039672-4) .\\\\n expressamente consignados no voto condutor do aresto: 1) O laudo pericial\\\\n constatou que o servidor, no exercício de suas atividades laborais, foi submetido\\\\n a níveis de ruídos excessivos os quais, com o passar do tempo podem produzir\\\\n o \"trauma acústico\" apresentado; 2) O dano constatado foi a perda de 30%\\\\n (trinta por cento) da audição do recorrente; 3) O dano é irrecuperável e\\\\n progressivo; 4) A prova testemunhal produzida comprovou o nexo causal e a\\\\n omissão da universidade; 5) A UFSM/RS poderia ter evitado ou diminuído os\\\\n riscos da lesão; 6) O recorrente foi exposto aos ruídos intensos durante mais de\\\\n 5 (cinco) anos.\\\\n 3. Diante dessas premissas fáticas, todas expressamente\\\\n constantes do acórdão recorrido, e que não podem ser aqui alteradas, o Tribunal\\\\n a quo chegou à conclusão de que o valor devido a título de indenização pelo\\\\n Assinado eletronicamente. Certificação digital pertencente a FABIANO MENDONCA FURTADO.\\\\n dano moral deveria se de 13.000,00 (treze mil reais).\\\\n 4. No presente caso, para apreciar o pedido de\\\\n majoração do valor arbitrado não incide o óbice contido da Súmula 7/STJ,\\\\n uma vez que as constatações acima elencadas não foram retiradas do\\\\n conjunto probatório que instrui a demanda, mas do próprio acórdão\\\\n recorrido, onde expressamente estão consignadas. Para que haja a\\\\n possibilidade de aumentar ou diminuir o valor da indenização necessário\\\\n apenas fazer um revaloração das circunstâncias fáticas acima enumeradas.\\\\n 5. Tendo em vista a circunstância de ser o dano\\\\n irreversível e progressivo – o que significa que no presente momento a perda da\\\\n audição deve ser fixado muito além dos 30% identificados quando da elaboração\\\\nDocumento recebido eletronicamente da origem\\\\n do laudo em 1997 – e, ainda, o total descaso da parte ré ao permitir que seu\\\\n servidor trabalhasse em um ambiente de risco todo um lustro, tenho por fixar o\\\\n valor sugerido no parecer do Ministério Público Federal no patamar de 62.250,00\\\\n (sessenta e dois mil e duzentos e cinqüenta reais), em consonância com o que\\\\n 5\\', \\'needs_ocr\\': False}, {\\'index\\': 5, \\'body\\': \\'(e-STJ Fl.283)\\\\n DEFENSORIA PÚBLICA DA UNIÃO N O R I O\\\\n D E J A N E I R O\\\\n TRF2\\\\n Paj: 2014/016-16082\\\\n Fls 283\\\\n foi decidido no REsp 790.671/RJ, Rel. Min. Cesar Asfor Rocha, DJU de\\\\n 30.04.07.\\\\n 6. Sobre o montante devem incidir juros de mora de 0,5%\\\\n ao mês (art. 1.062 do Código de Bevilacqua) até a entrada em vigor do novo\\\\n Código Civil, quando, então, passa a incidir a taxa SELIC, nos termos do art. 406\\\\n do Novo Diploma e da jurisprudência deste Superior Tribunal. O termo inicial de\\\\n sua incidência é a data do evento danoso (Súmula 54/STJ).\\\\n Documento No: 73257-88-0-278-9-822389 - consulta à autenticidade do documento através do site http://portal.trf2.jus.br/autenticidade\\\\n 7. A correção monetária, tratando-se de dano moral, como\\\\n é o caso dos autos, deveria incidir a partir do arbitramento, ou seja, da presente\\\\n data, entretanto, como a taxa SELIC já representa, a um só tempo, índice de\\\\n correção e taxa de juros, deixa-se de determinar sua incidência, uma vez que já\\\\n Protocolada por Flávio Luiz Marques Penna Marinho em 11/05/2016 17:31:42. (Processo: 0008510-56.2011.4.02.5001 - Petição: 2016.6000.039672-4) .\\\\n há a aplicação do referido índice a partir da edição do Novo Código Civil.\\\\n 8. Analisada a questão de fundo, fica prejudicada a análise\\\\n da contrariedade ao art. 535 do CPC.\\\\n 9. Recurso especial da Universidade Federal de Santa\\\\n Maria/RS não conhecido e recurso especial de Dejanir Oliveira da Silva provido\\\\n em parte.\\\\n (REsp 464.552/RS, Rel. Ministro CASTRO MEIRA,\\\\n SEGUNDA TURMA, julgado em 02/09/2008, DJe 03/10/2008)\\\\n PROCESSUAL CIVIL. AGRAVO REGIMENTAL.\\\\n RESPONSABILIDADE CIVIL. DANO MORAL. INDENIZAÇÃO. REVISÃO DO\\\\n QUANTUM ARBITRADO NAS INSTÂNCIAS ORDINÁRIAS. REDUÇÃO.\\\\n Assinado eletronicamente. Certificação digital pertencente a FABIANO MENDONCA FURTADO.\\\\n IMPOSSIBILIDADE. HIPÓTESE EXCEPCIONAL DE AFASTAMENTO DA\\\\n SÚMULA 7/STJ. INOCORRÊNCIA DE REVALORAÇÃO DO CONTEXTO\\\\n FÁTICO E PROBATÓRIO. CIRCUNSTÂNCIAS DO CASO CONCRETO\\\\n EFETIVAMENTE CONSIDERADAS PELO TRIBUNAL A QUO NA\\\\n ESTIPULAÇÃO DO MONTANTE DEVIDO. AGRAVO IMPROVIDO.\\\\n I - Incabível é a redução ou aumento da verba\\\\n indenizatória que não se mostra irrisória ou exagerada, tomando por base as\\\\n circunstâncias examinadas pelo Tribunal a quo.\\\\n II - Esta Corte, cuja missão é uniformizar a interpretação\\\\n do direito federal, há alguns anos começou a afastar o rigor da técnica do\\\\n recurso especial para controlar o montante arbitrado pela instância ordinária a\\\\nDocumento recebido eletronicamente da origem\\\\n título de dano moral, com o objetivo de impedir o estabelecimento de uma\\\\n \"indústria do dano moral\" (REsp 504.639/PB, Min. Sálvio de Figueiredo, DJ de\\\\n 25/08/2003, p. 323).\\\\n 6\\', \\'needs_ocr\\': False}, {\\'index\\': 6, \\'body\\': \\'(e-STJ Fl.284)\\\\n DEFENSORIA PÚBLICA DA UNIÃO N O R I O\\\\n D E J A N E I R O\\\\n TRF2\\\\n Paj: 2014/016-16082\\\\n Fls 284\\\\n III - O Superior Tribunal de Justiça, em situações\\\\n especialíssimas como a dos autos - de arbitramento de valores por dano moral -\\\\n ciente do seu relevante papel de Tribunal do Pacto Federativo, e com o escopo\\\\n final de estabelecer a pacificação social, se pronuncia nos casos concretos para\\\\n aferir a razoabilidade do quantum destinado à amenização do abalo moral (REsp\\\\n 1.089.444/PR, Min. Nancy Andrighi, DJe de 03/02/2009).\\\\n IV - Não se tem dúvida de que esta Corte, ao reexaminar o\\\\n Documento No: 73257-88-0-278-9-822389 - consulta à autenticidade do documento através do site http://portal.trf2.jus.br/autenticidade\\\\n montante arbitrado pelo Tribunal a quo nesta situação, mergulha nas\\\\n particularidades soberanamente delineadas pela instância ordinária para\\\\n averiguar a justiça da indenização (se ínfima, eqüitativa ou exorbitante),\\\\n afastando-se do rigor da técnica de análise do recurso especial.\\\\n Protocolada por Flávio Luiz Marques Penna Marinho em 11/05/2016 17:31:42. (Processo: 0008510-56.2011.4.02.5001 - Petição: 2016.6000.039672-4) .\\\\n V - A atuação deste Tribunal na revisão do quantum\\\\n arbitrado como dano moral não consubstancia revaloração da prova,\\\\n segundo a qual o STJ, mantendo as premissas delineadas pelo acórdão\\\\n recorrido, e sem reexaminar a justiça ou injustiça da decisão impugnada,\\\\n qualifica juridicamente os fatos soberanamente comprovados na instância\\\\n ordinária (AgRg no REsp 461.539/RN, Min. Hélio Quaglia Barbosa, DJ de\\\\n 14/02/2005, p. 244; REsp 327.062/MG, Min. Menezes Direito, DJ de\\\\n 05/08/2002, p. 330).\\\\n VI - No caso dos autos, não há desproporcionalidade no\\\\n valor arbitrado pelo Tribunal de Justiça do Estado do Rio de Janeiro, levando-se\\\\n em consideração as condições pessoais e econômicas dos envolvidos.\\\\n VII - Agravo regimental improvido.\\\\n Assinado eletronicamente. Certificação digital pertencente a FABIANO MENDONCA FURTADO.\\\\n (AgRg no Ag 617.931/RJ, Rel. Ministro PAULO FURTADO\\\\n - DESEMBARGADOR CONVOCADO DO TJ/BA, TERCEIRA TURMA, julgado\\\\n em 15/09/2009, DJe 25/09/2009)\\\\n PROCESSUAL PENAL. RECURSO ESPECIAL. ART. 121,\\\\n § 2º, I e IV DO CP. REEXAME E REVALORAÇÃO DE PROVAS. PRONÚNCIA.\\\\n INDÍCIOS. INEXISTÊNCIA. MANUTENÇÃO DA DESPRONÚNCIA.\\\\n I - A revaloração da prova ou de dados explicitamente\\\\n admitidos e delineados no decisório recorrido não implica no vedado\\\\n reexame do material de conhecimento (Precedentes).\\\\n II - Em se tratando de crime afeto à competência do\\\\nDocumento recebido eletronicamente da origem\\\\n Tribunal do Júri, o julgamento pelo Tribunal Popular só pode deixar de ocorrer,\\\\n provada a materialidade, caso se verifique ser despropositada a acusação,\\\\n porquanto aqui vigora o princípio in dubio pro societate (Precedentes).\\\\n 7\\', \\'needs_ocr\\': False}, {\\'index\\': 7, \\'body\\': \\'(e-STJ Fl.285)\\\\n DEFENSORIA PÚBLICA DA UNIÃO N O R I O\\\\n D E J A N E I R O\\\\n TRF2\\\\n Paj: 2014/016-16082\\\\n Fls 285\\\\n III - Na hipótese vertente, o v. acórdão atacado, ao\\\\n reformar a r. decisão que havia pronunciado o recorrido, evidenciou ser abusiva\\\\n e despropositada a acusação. Assim, a constatação de inexistir indícios mínimos\\\\n de autoria, implica a manutenção da despronúncia.\\\\n Recurso especial desprovido.\\\\n (REsp 1104096/SP, Rel. Ministro FELIX FISCHER,\\\\n QUINTA TURMA, julgado em 20/10/2009, DJe 16/11/2009)\\\\n Documento No: 73257-88-0-278-9-822389 - consulta à autenticidade do documento através do site http://portal.trf2.jus.br/autenticidade\\\\n RECURSO ESPECIAL. ARTS. 121, CAPUT, E 125,\\\\n AMBOS DO CÓDIGO PENAL. RECURSO EM SENTIDO ESTRITO.\\\\n PRONÚNCIA. DÚVIDA SE O ÓBITO DA VÍTIMA SERIA OU NÃO RESULTADO\\\\n Protocolada por Flávio Luiz Marques Penna Marinho em 11/05/2016 17:31:42. (Processo: 0008510-56.2011.4.02.5001 - Petição: 2016.6000.039672-4) .\\\\n DE UM CRIME OU DE UM LAMENTÁVEL ACIDENTE DE CARRO. OFENSA\\\\n AO ART. 408 DO CÓDIGO DE PROCESSO PENAL (ATUAL ART. 413 DO\\\\n CPP, COM A REDAÇÃO DADA PELA LEI Nº 11.689/08). EXISTÊNCIA DE\\\\n DUAS VERSÕES SOBRE OS FATOS. LAUDO PERICIAL E INDÍCIOS DE\\\\n AUTORIA. COMPETÊNCIA DO TRIBUNAL DO JÚRI.\\\\n 1. De ressaltar que a questão posta no recurso\\\\n especial é meramente jurídica, visto que \"a revaloração da prova ou de\\\\n dados explicitamente admitidos e delineados no decisório recorrido não\\\\n implica no vedado reexame do material de conhecimento.\" (REsp\\\\n 878.334/DF, Relator Ministro FELIX FISCHER, DJ 26/02/2007)\\\\n 2. No caso, o cotejo entre os votos vencedores e o voto\\\\n vencido do acórdão recorrido evidencia de pronto que a solução adotada, por\\\\n Assinado eletronicamente. Certificação digital pertencente a FABIANO MENDONCA FURTADO.\\\\n maioria, pelo Tribunal de origem, violou o art. 408 do Código de Processo Penal\\\\n (atual art. 413 do CPP, com a redação dada pela lei nº 11.689/08).\\\\n 3. Ora, se voto vencido e vencedor conseguem detectar\\\\n versões antagônicas a respeito dos fatos, uma das quais incompatível com a\\\\n tese de que a morte teria sido acidental, o Tribunal de origem não poderia,\\\\n simplesmente, adotar a versão mais favorável ao réu, suprimindo a competência\\\\n do Júri para julgar o feito, notadamente se, para tanto, não houve a necessidade\\\\n de incursão aprofundada no acervo probatório, incabível na fase de pronúncia.\\\\n 4. Assim, havendo indícios de que o suposto acidente de\\\\n carro seja na verdade um crime de homicídio perpetrado pelo ora recorrido\\\\n contra sua cônjuge, a questão deve ser remetida para o Júri Popular, juízo\\\\nDocumento recebido eletronicamente da origem\\\\n natural para o julgamento dos delitos dolosos contra a vida.\\\\n 5. Com é sabido, a pronúncia é um mero juízo de\\\\n admissibilidade da acusação, não exigindo prova incontroversa da existência do\\\\n crime, sendo suficiente que o juiz se convença de sua materialidade. Por outro\\\\n 8\\', \\'needs_ocr\\': False}, {\\'index\\': 8, \\'body\\': \\'(e-STJ Fl.286)\\\\n DEFENSORIA PÚBLICA DA UNIÃO N O R I O\\\\n D E J A N E I R O\\\\n TRF2\\\\n Paj: 2014/016-16082\\\\n Fls 286\\\\n lado, quanto à autoria, não é necessária a certeza exigida para a condenação,\\\\n bastando que existam indícios suficientes de que o réu seja o autor.\\\\n 6. Recurso especial provido para, cassando o acórdão\\\\n recorrido, restabelecer a sentença de primeiro grau, que pronunciou o recorrido\\\\n pela suposta prática dos crimes de homicídio simples e provocação de aborto.\\\\n (REsp 578.585/PA, Rel. Ministro OG FERNANDES,\\\\n SEXTA TURMA, julgado em 06/10/2009, DJe 26/10/2009)\\\\n Documento No: 73257-88-0-278-9-822389 - consulta à autenticidade do documento através do site http://portal.trf2.jus.br/autenticidade\\\\n Portanto, estando todos os elementos probatórios e dados que\\\\n permitem concluir pelo erro de direito no improvimento da apelação, não há que se\\\\n falar em reexame, mas sim em REVALORAÇÃO DA PROVA, sendo perfeitamente\\\\n Protocolada por Flávio Luiz Marques Penna Marinho em 11/05/2016 17:31:42. (Processo: 0008510-56.2011.4.02.5001 - Petição: 2016.6000.039672-4) .\\\\n admissível o presente recurso extraordinário (precedentes acima trasncritos), sem\\\\n incidir o óbice da Súmula nº 279 do STF.\\\\n CONCLUSÃO\\\\n Diante do exposto, e mais do que dos autos consta, espera o conhecimento e\\\\n provimento deste agravo, a fim de que o recurso extraordinário seja admitido e ao final\\\\n provido, por ser medida de direito e de Justiça.\\\\n Rio de Janeiro, 11 de maio de 2016.\\\\n Flávio Luiz Marques Penna Marinho\\\\n Defensor Público Federal\\\\n Assinado eletronicamente. Certificação digital pertencente a FABIANO MENDONCA FURTADO.\\\\nDocumento recebido eletronicamente da origem\\\\n 9\\', \\'needs_ocr\\': False}]'"
      ]
     },
     "execution_count": 67,
     "metadata": {},
     "output_type": "execute_result"
    }
   ],
   "source": [
    "train.iloc[0].pages"
   ]
  },
  {
   "cell_type": "markdown",
   "metadata": {},
   "source": [
    "# Pre processing"
   ]
  },
  {
   "cell_type": "code",
   "execution_count": 71,
   "metadata": {},
   "outputs": [
    {
     "name": "stderr",
     "output_type": "stream",
     "text": [
      "100%|██████████| 4769/4769 [00:09<00:00, 515.77it/s]\n"
     ]
    }
   ],
   "source": [
    "from pre_processing.pre_processing import BatchProcessing\n",
    "\n",
    "pre_processing_pipe = [\n",
    "    str.lower, 'clean_email', 'clean_site', 'clean_document',\n",
    "    'transform_token', 'remove_letter_number', 'clean_number',\n",
    "    'remove_small_big_words', 'clean_spaces'\n",
    "]\n",
    "\n",
    "clean_train = BatchProcessing.parallel_processing(pre_processing_pipe, [str(doc) for doc in train.pages], progress=True)"
   ]
  },
  {
   "cell_type": "code",
   "execution_count": 74,
   "metadata": {},
   "outputs": [
    {
     "name": "stderr",
     "output_type": "stream",
     "text": [
      "100%|██████████| 1363/1363 [00:01<00:00, 894.74it/s]\n",
      "100%|██████████| 682/682 [00:00<00:00, 746.01it/s] \n"
     ]
    }
   ],
   "source": [
    "clean_validation = BatchProcessing.parallel_processing(pre_processing_pipe, [str(doc) for doc in validation.pages], progress=True)\n",
    "clean_test = BatchProcessing.parallel_processing(pre_processing_pipe, [str(doc) for doc in test.pages], progress=True)"
   ]
  },
  {
   "cell_type": "code",
   "execution_count": 75,
   "metadata": {},
   "outputs": [
    {
     "data": {
      "text/html": [
       "<div>\n",
       "<style scoped>\n",
       "    .dataframe tbody tr th:only-of-type {\n",
       "        vertical-align: middle;\n",
       "    }\n",
       "\n",
       "    .dataframe tbody tr th {\n",
       "        vertical-align: top;\n",
       "    }\n",
       "\n",
       "    .dataframe thead th {\n",
       "        text-align: right;\n",
       "    }\n",
       "</style>\n",
       "<table border=\"1\" class=\"dataframe\">\n",
       "  <thead>\n",
       "    <tr style=\"text-align: right;\">\n",
       "      <th></th>\n",
       "      <th>label</th>\n",
       "      <th>pages</th>\n",
       "      <th>first_page</th>\n",
       "    </tr>\n",
       "  </thead>\n",
       "  <tbody>\n",
       "    <tr>\n",
       "      <th>0</th>\n",
       "      <td>ARE</td>\n",
       "      <td>index body stj n defensoria pública união o i ...</td>\n",
       "      <td>(e-STJ Fl.278)\\n DEFENSORIA PÚBLICA DA UNIÃO N...</td>\n",
       "    </tr>\n",
       "    <tr>\n",
       "      <th>1</th>\n",
       "      <td>ARE</td>\n",
       "      <td>index body n n n e stj niran amaral advogados ...</td>\n",
       "      <td>\\n  \\n \\n\\n \\n\\n(e-STJ FI.248)i!3\\n\\n3H\\n\\n...</td>\n",
       "    </tr>\n",
       "    <tr>\n",
       "      <th>2</th>\n",
       "      <td>ARE</td>\n",
       "      <td>index body presidência turma recursal dos jefs...</td>\n",
       "      <td>2009.71.55.001920-7 Presidência da 2ª Turma Re...</td>\n",
       "    </tr>\n",
       "    <tr>\n",
       "      <th>3</th>\n",
       "      <td>ARE</td>\n",
       "      <td>index body nexcelentíssimo a senhor a doutor a...</td>\n",
       "      <td>1\\nEXCELENTÍSSIMO (A) SENHOR (A) DOUTOR (A) JU...</td>\n",
       "    </tr>\n",
       "    <tr>\n",
       "      <th>4</th>\n",
       "      <td>ARE</td>\n",
       "      <td>index body presidência turma recursal dos jefs...</td>\n",
       "      <td>2009.71.58.011511-9 Presidência da 2ª Turma Re...</td>\n",
       "    </tr>\n",
       "  </tbody>\n",
       "</table>\n",
       "</div>"
      ],
      "text/plain": [
       "  label                                              pages  \\\n",
       "0   ARE  index body stj n defensoria pública união o i ...   \n",
       "1   ARE  index body n n n e stj niran amaral advogados ...   \n",
       "2   ARE  index body presidência turma recursal dos jefs...   \n",
       "3   ARE  index body nexcelentíssimo a senhor a doutor a...   \n",
       "4   ARE  index body presidência turma recursal dos jefs...   \n",
       "\n",
       "                                          first_page  \n",
       "0  (e-STJ Fl.278)\\n DEFENSORIA PÚBLICA DA UNIÃO N...  \n",
       "1     \\n  \\n \\n\\n \\n\\n(e-STJ FI.248)i!3\\n\\n3H\\n\\n...  \n",
       "2  2009.71.55.001920-7 Presidência da 2ª Turma Re...  \n",
       "3  1\\nEXCELENTÍSSIMO (A) SENHOR (A) DOUTOR (A) JU...  \n",
       "4  2009.71.58.011511-9 Presidência da 2ª Turma Re...  "
      ]
     },
     "execution_count": 75,
     "metadata": {},
     "output_type": "execute_result"
    }
   ],
   "source": [
    "train.pages = clean_train\n",
    "validation.pages = clean_validation\n",
    "test.pages = clean_test\n",
    "\n",
    "train.head()"
   ]
  },
  {
   "cell_type": "markdown",
   "metadata": {},
   "source": [
    "## Chi words"
   ]
  },
  {
   "cell_type": "code",
   "execution_count": 68,
   "metadata": {
    "scrolled": true
   },
   "outputs": [],
   "source": [
    "# chi_words = pd.read_csv('Chi2.csv', index_col=0)\n",
    "# chi_top_words = chi_words['0'][:int(chi_words.size * 0.3)].tolist()\n",
    "\n",
    "# def chi_filter(x):\n",
    "#     words = x.split(' ')\n",
    "#     chi_words = [y for y in words if y in chi_top_words]\n",
    "#     return ' '.join(chi_words)\n",
    "    \n",
    "# train['text'] = [chi_filter(x) for x in tqdm(train['text'])]\n",
    "# validation['text'] = [chi_filter(x) for x in tqdm(validation['text'])]\n",
    "# test['text'] = [chi_filter(x) for x in tqdm(test['text'])]\n",
    "\n",
    "# train = train[train.text.str.len() > 0]\n",
    "# validation = validation[validation.text.str.len() > 0]\n",
    "# test = test[test.text.str.len() > 0]"
   ]
  },
  {
   "cell_type": "markdown",
   "metadata": {},
   "source": [
    "# TFiDF Vectorization"
   ]
  },
  {
   "cell_type": "code",
   "execution_count": 85,
   "metadata": {
    "scrolled": true,
    "slideshow": {
     "slide_type": "skip"
    }
   },
   "outputs": [
    {
     "data": {
      "text/plain": [
       "((4769, 122829), (1363, 122829), (682, 122829))"
      ]
     },
     "execution_count": 85,
     "metadata": {},
     "output_type": "execute_result"
    }
   ],
   "source": [
    "tfidf = TfidfVectorizer()\n",
    "\n",
    "X_train = tfidf.fit_transform(train.pages)\n",
    "X_validation = tfidf.transform(validation.pages)\n",
    "X_test = tfidf.transform(test.pages)\n",
    "\n",
    "X_train.shape, X_validation.shape, X_test.shape"
   ]
  },
  {
   "cell_type": "markdown",
   "metadata": {},
   "source": [
    "# Label Encoding"
   ]
  },
  {
   "cell_type": "code",
   "execution_count": 123,
   "metadata": {},
   "outputs": [
    {
     "data": {
      "text/plain": [
       "array([0, 0, 0, ..., 5, 5, 5])"
      ]
     },
     "execution_count": 123,
     "metadata": {},
     "output_type": "execute_result"
    }
   ],
   "source": [
    "from sklearn import preprocessing\n",
    "\n",
    "le = preprocessing.LabelEncoder()\n",
    "le_train = le.fit_transform(train['label'])\n",
    "le_test = le.transform(test['label'])\n",
    "\n",
    "le_train"
   ]
  },
  {
   "cell_type": "markdown",
   "metadata": {},
   "source": [
    "# XGBoost"
   ]
  },
  {
   "cell_type": "code",
   "execution_count": null,
   "metadata": {},
   "outputs": [],
   "source": [
    "import xgboost as xgb\n",
    "\n",
    "dtrain = xgb.DMatrix(X_train, label=le_train)\n",
    "dtest = xgb.DMatrix(X_test, label=le_test)"
   ]
  },
  {
   "cell_type": "markdown",
   "metadata": {},
   "source": [
    "# Multiclass params"
   ]
  },
  {
   "cell_type": "code",
   "execution_count": 172,
   "metadata": {},
   "outputs": [],
   "source": [
    "param = {\n",
    "    'max_depth': 3,  # the maximum depth of each tree\n",
    "    'eta': 0.3,  # the training step for each iteration\n",
    "    'silent': 1,  # logging mode - quiet\n",
    "    'objective': 'multi:softmax',  # error evaluation for multiclass training\n",
    "    'num_class': Y_train.shape[1]\n",
    "}\n",
    "\n",
    "num_round = 15  # the number of training iterations"
   ]
  },
  {
   "cell_type": "markdown",
   "metadata": {},
   "source": [
    "# Training"
   ]
  },
  {
   "cell_type": "code",
   "execution_count": 173,
   "metadata": {},
   "outputs": [],
   "source": [
    "bst = xgb.train(param, dtrain, num_round)"
   ]
  },
  {
   "cell_type": "markdown",
   "metadata": {},
   "source": [
    "# Checking performance on test set"
   ]
  },
  {
   "cell_type": "code",
   "execution_count": 174,
   "metadata": {},
   "outputs": [],
   "source": [
    "preds = bst.predict(dtest)"
   ]
  },
  {
   "cell_type": "code",
   "execution_count": 175,
   "metadata": {},
   "outputs": [
    {
     "data": {
      "text/plain": [
       "array([3, 0, 1, 0, 3])"
      ]
     },
     "execution_count": 175,
     "metadata": {},
     "output_type": "execute_result"
    },
    {
     "data": {
      "text/plain": [
       "array([3., 0., 0., 0., 3.], dtype=float32)"
      ]
     },
     "execution_count": 175,
     "metadata": {},
     "output_type": "execute_result"
    }
   ],
   "source": [
    "le_test[:5]\n",
    "preds[:5]"
   ]
  },
  {
   "cell_type": "code",
   "execution_count": 176,
   "metadata": {},
   "outputs": [
    {
     "name": "stdout",
     "output_type": "stream",
     "text": [
      "             precision    recall  f1-score   support\n",
      "\n",
      "        ARE       0.96      0.96      0.96        92\n",
      "    Acordão       0.86      0.89      0.87        82\n",
      "      Desp.       0.96      0.78      0.86        55\n",
      "      Outro       0.92      0.92      0.92       280\n",
      "         RE       0.95      0.98      0.97        63\n",
      "      Sent.       0.94      0.98      0.96       110\n",
      "\n",
      "avg / total       0.93      0.93      0.93       682\n",
      "\n"
     ]
    },
    {
     "name": "stderr",
     "output_type": "stream",
     "text": [
      "/home/seth/env/ml_service/lib/python3.5/site-packages/sklearn/preprocessing/label.py:151: DeprecationWarning: The truth value of an empty array is ambiguous. Returning False, but in future this will result in an error. Use `array.size > 0` to check that an array is not empty.\n",
      "  if diff:\n",
      "/home/seth/env/ml_service/lib/python3.5/site-packages/sklearn/preprocessing/label.py:151: DeprecationWarning: The truth value of an empty array is ambiguous. Returning False, but in future this will result in an error. Use `array.size > 0` to check that an array is not empty.\n",
      "  if diff:\n"
     ]
    }
   ],
   "source": [
    "print(classification_report(le.inverse_transform(le_test), le.inverse_transform(preds.astype(int)), target_names=le.classes_))"
   ]
  },
  {
   "cell_type": "markdown",
   "metadata": {},
   "source": [
    "# Confusion Matrix"
   ]
  },
  {
   "cell_type": "code",
   "execution_count": 177,
   "metadata": {},
   "outputs": [
    {
     "name": "stderr",
     "output_type": "stream",
     "text": [
      "/home/seth/env/ml_service/lib/python3.5/site-packages/sklearn/preprocessing/label.py:151: DeprecationWarning: The truth value of an empty array is ambiguous. Returning False, but in future this will result in an error. Use `array.size > 0` to check that an array is not empty.\n",
      "  if diff:\n",
      "/home/seth/env/ml_service/lib/python3.5/site-packages/sklearn/preprocessing/label.py:151: DeprecationWarning: The truth value of an empty array is ambiguous. Returning False, but in future this will result in an error. Use `array.size > 0` to check that an array is not empty.\n",
      "  if diff:\n"
     ]
    },
    {
     "data": {
      "text/plain": [
       "array([[ 88,   1,   0,   2,   1,   0],\n",
       "       [  1,  73,   0,   5,   1,   2],\n",
       "       [  0,   0,  43,  12,   0,   0],\n",
       "       [  3,  11,   2, 258,   1,   5],\n",
       "       [  0,   0,   0,   1,  62,   0],\n",
       "       [  0,   0,   0,   2,   0, 108]])"
      ]
     },
     "execution_count": 177,
     "metadata": {},
     "output_type": "execute_result"
    }
   ],
   "source": [
    "cm = confusion_matrix(le.inverse_transform(le_test), le.inverse_transform(preds.astype(int)), labels=le.classes_)\n",
    "cm"
   ]
  },
  {
   "cell_type": "code",
   "execution_count": 178,
   "metadata": {},
   "outputs": [],
   "source": [
    "def plot_confusion_matrix(cm, classes, normalized=True, cmap='bone'):\n",
    "    plt.figure(figsize=[24, 16])\n",
    "    norm_cm = cm\n",
    "    if normalized:\n",
    "        norm_cm = cm.astype('float') / cm.sum(axis=1)[:, np.newaxis]\n",
    "\n",
    "    sns.heatmap(norm_cm, annot=cm, fmt='g', xticklabels=classes, yticklabels=classes, cmap=cmap)"
   ]
  },
  {
   "cell_type": "code",
   "execution_count": 179,
   "metadata": {},
   "outputs": [
    {
     "data": {
      "image/png": "[encoded data removed]",
      "text/plain": [
       "<Figure size 1728x1152 with 2 Axes>"
      ]
     },
     "metadata": {},
     "output_type": "display_data"
    }
   ],
   "source": [
    "plot_confusion_matrix(cm, le.classes_)"
   ]
  },
  {
   "cell_type": "markdown",
   "metadata": {},
   "source": [
    "# Concat train and validation set"
   ]
  },
  {
   "cell_type": "code",
   "execution_count": 150,
   "metadata": {},
   "outputs": [
    {
     "data": {
      "text/plain": [
       "(6132, 3)"
      ]
     },
     "execution_count": 150,
     "metadata": {},
     "output_type": "execute_result"
    }
   ],
   "source": [
    "trainval = pd.concat([train, validation])\n",
    "trainval.shape"
   ]
  },
  {
   "cell_type": "code",
   "execution_count": 160,
   "metadata": {},
   "outputs": [],
   "source": [
    "X_trainval = tfidf.fit_transform(trainval.pages)\n",
    "X_test_ = tfidf.transform(test.pages)\n",
    "\n",
    "le_trainval = le.fit_transform(trainval.label)\n",
    "le_test_ = le.fit_transform(test.label)\n",
    "\n",
    "dtrainval = xgb.DMatrix(X_trainval, label=le_trainval)\n",
    "dtest_ = xgb.DMatrix(X_test_, label=le_test_)"
   ]
  },
  {
   "cell_type": "markdown",
   "metadata": {},
   "source": [
    "# Train model with larger train dataset"
   ]
  },
  {
   "cell_type": "code",
   "execution_count": 157,
   "metadata": {},
   "outputs": [],
   "source": [
    "bst_big = xgb.train(param, dtrainval, num_round)"
   ]
  },
  {
   "cell_type": "code",
   "execution_count": 161,
   "metadata": {},
   "outputs": [],
   "source": [
    "big_pred = bst_big.predict(dtest_)"
   ]
  },
  {
   "cell_type": "markdown",
   "metadata": {},
   "source": [
    "# Evaluate new model"
   ]
  },
  {
   "cell_type": "code",
   "execution_count": 162,
   "metadata": {},
   "outputs": [
    {
     "name": "stdout",
     "output_type": "stream",
     "text": [
      "             precision    recall  f1-score   support\n",
      "\n",
      "        ARE       0.95      0.97      0.96        92\n",
      "    Acordão       0.88      0.90      0.89        82\n",
      "      Desp.       0.96      0.80      0.87        55\n",
      "      Outro       0.94      0.93      0.93       280\n",
      "         RE       0.95      0.98      0.97        63\n",
      "      Sent.       0.94      0.99      0.96       110\n",
      "\n",
      "avg / total       0.93      0.93      0.93       682\n",
      "\n"
     ]
    },
    {
     "name": "stderr",
     "output_type": "stream",
     "text": [
      "/home/seth/env/ml_service/lib/python3.5/site-packages/sklearn/preprocessing/label.py:151: DeprecationWarning: The truth value of an empty array is ambiguous. Returning False, but in future this will result in an error. Use `array.size > 0` to check that an array is not empty.\n",
      "  if diff:\n",
      "/home/seth/env/ml_service/lib/python3.5/site-packages/sklearn/preprocessing/label.py:151: DeprecationWarning: The truth value of an empty array is ambiguous. Returning False, but in future this will result in an error. Use `array.size > 0` to check that an array is not empty.\n",
      "  if diff:\n"
     ]
    }
   ],
   "source": [
    "print(classification_report(le.inverse_transform(le_test_), le.inverse_transform(big_pred.astype(int)), target_names=le.classes_))"
   ]
  },
  {
   "cell_type": "code",
   "execution_count": 163,
   "metadata": {},
   "outputs": [
    {
     "name": "stderr",
     "output_type": "stream",
     "text": [
      "/home/seth/env/ml_service/lib/python3.5/site-packages/sklearn/preprocessing/label.py:151: DeprecationWarning: The truth value of an empty array is ambiguous. Returning False, but in future this will result in an error. Use `array.size > 0` to check that an array is not empty.\n",
      "  if diff:\n",
      "/home/seth/env/ml_service/lib/python3.5/site-packages/sklearn/preprocessing/label.py:151: DeprecationWarning: The truth value of an empty array is ambiguous. Returning False, but in future this will result in an error. Use `array.size > 0` to check that an array is not empty.\n",
      "  if diff:\n"
     ]
    },
    {
     "data": {
      "text/plain": [
       "array([[ 89,   0,   0,   2,   1,   0],\n",
       "       [  1,  74,   0,   4,   1,   2],\n",
       "       [  0,   0,  45,  10,   0,   0],\n",
       "       [  3,  12,   2, 257,   1,   5],\n",
       "       [  0,   0,   0,   1,  62,   0],\n",
       "       [  0,   0,   0,   2,   0, 108]])"
      ]
     },
     "execution_count": 163,
     "metadata": {},
     "output_type": "execute_result"
    }
   ],
   "source": [
    "cm_big = confusion_matrix(le.inverse_transform(le_test_), le.inverse_transform(preds.astype(int)), labels=le.classes_)\n",
    "cm_big"
   ]
  },
  {
   "cell_type": "code",
   "execution_count": 164,
   "metadata": {},
   "outputs": [
    {
     "data": {
      "image/png": "[encoded data removed]",
      "text/plain": [
       "<Figure size 1728x1152 with 2 Axes>"
      ]
     },
     "metadata": {},
     "output_type": "display_data"
    }
   ],
   "source": [
    "plot_confusion_matrix(cm_big, le.classes_)"
   ]
  }
 ],
 "metadata": {
  "kernelspec": {
   "display_name": "Python 3",
   "language": "python",
   "name": "python3"
  },
  "language_info": {
   "codemirror_mode": {
    "name": "ipython",
    "version": 3
   },
   "file_extension": ".py",
   "mimetype": "text/x-python",
   "name": "python",
   "nbconvert_exporter": "python",
   "pygments_lexer": "ipython3",
   "version": "3.6.5"
  },
  "toc": {
   "base_numbering": 1,
   "nav_menu": {
    "height": "498px",
    "width": "383px"
   },
   "number_sections": false,
   "sideBar": true,
   "skip_h1_title": false,
   "title_cell": "Table of Contents",
   "title_sidebar": "Contents",
   "toc_cell": false,
   "toc_position": {
    "height": "calc(100% - 180px)",
    "left": "10px",
    "top": "150px",
    "width": "165px"
   },
   "toc_section_display": true,
   "toc_window_display": true
  }
 },
 "nbformat": 4,
 "nbformat_minor": 2
}
