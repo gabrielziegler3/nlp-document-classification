{
 "cells": [
  {
   "cell_type": "code",
   "execution_count": null,
   "metadata": {},
   "outputs": [],
   "source": [
    "!python -m spacy download \"pt_core_news_sm\""
   ]
  },
  {
   "cell_type": "code",
   "execution_count": 2,
   "metadata": {},
   "outputs": [],
   "source": [
    "# import psycopg2\n",
    "import pandas as pd\n",
    "import numpy as np\n",
    "import paramiko\n",
    "import json\n",
    "import hashlib\n",
    "\n",
    "from pandas.io import sql as psql\n",
    "\n",
    "from tqdm import tqdm\n",
    "from tqdm._tqdm_notebook import tqdm_notebook # Beta\n",
    "\n",
    "# from pre_processing.pre_processing import BatchProcessing\n",
    "\n",
    "from zipfile import ZipFile\n",
    "from matplotlib import pyplot as plt\n",
    "\n",
    "tqdm_notebook.pandas()"
   ]
  },
  {
   "cell_type": "code",
   "execution_count": 11,
   "metadata": {},
   "outputs": [],
   "source": [
    "def page_split(row):\n",
    "    split = row.text.split('-----------------')\n",
    "    if len(split) == 1:\n",
    "        split += [None]\n",
    "    elif len(split) > 2:\n",
    "        split = ['-----------------'.join(split), None]\n",
    "\n",
    "    return pd.Series([row.document_id, row.label] + split, index=['document_id', 'label', 'first_page', 'second_page'])"
   ]
  },
  {
   "cell_type": "code",
   "execution_count": 3,
   "metadata": {},
   "outputs": [],
   "source": [
    "def report_duplicated(df, group_name='first_page'):\n",
    "    if 'text' in df:\n",
    "        df = df.apply(page_split, axis=1)\n",
    "    group_text = df.groupby([group_name, ])\n",
    "    \n",
    "    new_df = group_text.apply(lambda x: pd.Series(\n",
    "        data=[x.shape[0], x.label.duplicated(keep=False).all(), x.label.tolist()],\n",
    "        index=['dup_count', 'label_conflict', 'labels'])\n",
    "    ).reset_index()\n",
    "        \n",
    "    docs = []\n",
    "    new_df[(new_df.dup_count > 1) & ~new_df.label_conflict].apply(lambda x: docs.append(x[group_name]), axis=1)\n",
    "    df_label_free = df[~df[group_name].isin(docs)]\n",
    "        \n",
    "    total_count = new_df.dup_count.sum()\n",
    "    dups_count = new_df[new_df.dup_count > 1].dup_count.sum()\n",
    "    df_dups = df_label_free[df_label_free.duplicated(group_name, keep=False)]\n",
    "    df_free = df_label_free.drop_duplicates(group_name, keep='first')\n",
    "    count_labels = new_df[(new_df.dup_count > 1) & ~new_df.label_conflict]\n",
    "        \n",
    "    print('# total docs: ', total_count)\n",
    "    print('# docs duplicates: ', dups_count)\n",
    "    print('# docs with conflict labels: ', count_labels.dup_count.sum())\n",
    "    print('# docs keeping first: ', df_free.shape[0])\n",
    "    \n",
    "    return total_count, dups_count, df_dups, df_free, count_labels"
   ]
  },
  {
   "cell_type": "markdown",
   "metadata": {},
   "source": [
    "# 24-08-2018"
   ]
  },
  {
   "cell_type": "code",
   "execution_count": 43,
   "metadata": {},
   "outputs": [],
   "source": [
    "def gen_pages(row):\n",
    "    if pd.isna(row.pages):\n",
    "        return []\n",
    "    else:\n",
    "        return eval(row.pages)\n",
    "    \n",
    "def first_page(row):\n",
    "    first_page = None\n",
    "    if row.pages == []:\n",
    "        split = row.body.split('-----------------')\n",
    "        if len(split) == 1:\n",
    "            first_page = split[0]\n",
    "        elif len(split) > 2:\n",
    "            first_page = '-----------------'.join(split)\n",
    "        else:\n",
    "            first_page = split[0]\n",
    "    else:\n",
    "        first_page = row.pages[0]['body']\n",
    "    return first_page\n",
    "\n",
    "def concat_doc(row):\n",
    "    if row.pages == []:\n",
    "        return row.body\n",
    "    else:\n",
    "        hashs = map(lambda doc: hashlib.sha256(doc['body'].encode('utf8')).hexdigest(), row.pages)\n",
    "        return ' '.join(hashs)"
   ]
  },
  {
   "cell_type": "code",
   "execution_count": 44,
   "metadata": {},
   "outputs": [
    {
     "data": {
      "text/html": [
       "<div>\n",
       "<style scoped>\n",
       "    .dataframe tbody tr th:only-of-type {\n",
       "        vertical-align: middle;\n",
       "    }\n",
       "\n",
       "    .dataframe tbody tr th {\n",
       "        vertical-align: top;\n",
       "    }\n",
       "\n",
       "    .dataframe thead th {\n",
       "        text-align: right;\n",
       "    }\n",
       "</style>\n",
       "<table border=\"1\" class=\"dataframe\">\n",
       "  <thead>\n",
       "    <tr style=\"text-align: right;\">\n",
       "      <th></th>\n",
       "      <th>body</th>\n",
       "      <th>document_id</th>\n",
       "      <th>label</th>\n",
       "      <th>pages</th>\n",
       "      <th>path</th>\n",
       "      <th>source_pages</th>\n",
       "    </tr>\n",
       "  </thead>\n",
       "  <tbody>\n",
       "    <tr>\n",
       "      <th>0</th>\n",
       "      <td>TJI/AC DIRETORIA JUDICIÁRIA f15.000002\\n\\nPROC...</td>\n",
       "      <td>21</td>\n",
       "      <td>ARE</td>\n",
       "      <td>[{'body': 'TJI/AC DIRETORIA JUDICIÁRIA f15.000...</td>\n",
       "      <td>/raw/339/AI_855054/AI_855054_1181350_47_300520...</td>\n",
       "      <td>first</td>\n",
       "    </tr>\n",
       "    <tr>\n",
       "      <th>1</th>\n",
       "      <td>\\n\\nPODER JUDICIÁRIO DO ESTADO DO ACRE\\nTrib...</td>\n",
       "      <td>30</td>\n",
       "      <td>Acordão</td>\n",
       "      <td>[{'body': '  \\n\\nPODER JUDICIÁRIO DO ESTADO DO...</td>\n",
       "      <td>/raw/339/AI_855054/AI_855054_1181361_1272_3005...</td>\n",
       "      <td>first</td>\n",
       "    </tr>\n",
       "    <tr>\n",
       "      <th>2</th>\n",
       "      <td>\\n\\nPODER JUDICIÁRIO DO ESTADO DO ACRE\\nTribu...</td>\n",
       "      <td>40</td>\n",
       "      <td>Outro</td>\n",
       "      <td>[{'body': ' \\n\\nPODER JUDICIÁRIO DO ESTADO DO ...</td>\n",
       "      <td>/raw/339/AI_855433/AI_855433_1231718_1060_3005...</td>\n",
       "      <td>first</td>\n",
       "    </tr>\n",
       "    <tr>\n",
       "      <th>3</th>\n",
       "      <td>PODER JUDICIÁRIO DO ESTADO DO ACRE\\nTribunal d...</td>\n",
       "      <td>47</td>\n",
       "      <td>Outro</td>\n",
       "      <td>[{'body': 'PODER JUDICIÁRIO DO ESTADO DO ACRE\\...</td>\n",
       "      <td>/raw/339/AI_855435/AI_855435_1232534_1060_3105...</td>\n",
       "      <td>first</td>\n",
       "    </tr>\n",
       "    <tr>\n",
       "      <th>4</th>\n",
       "      <td>TRIBUNAL DE JUSTIÇA DE MINAS GERAIS\\n PODER JU...</td>\n",
       "      <td>74</td>\n",
       "      <td>Outro</td>\n",
       "      <td>[{'body': \"TRIBUNAL DE JUSTIÇA DE MINAS GERAIS...</td>\n",
       "      <td>/raw/339/AI_858116/AI_858116_2424429_1060_0408...</td>\n",
       "      <td>first</td>\n",
       "    </tr>\n",
       "  </tbody>\n",
       "</table>\n",
       "</div>"
      ],
      "text/plain": [
       "                                                body  document_id    label  \\\n",
       "0  TJI/AC DIRETORIA JUDICIÁRIA f15.000002\\n\\nPROC...           21      ARE   \n",
       "1    \\n\\nPODER JUDICIÁRIO DO ESTADO DO ACRE\\nTrib...           30  Acordão   \n",
       "2   \\n\\nPODER JUDICIÁRIO DO ESTADO DO ACRE\\nTribu...           40    Outro   \n",
       "3  PODER JUDICIÁRIO DO ESTADO DO ACRE\\nTribunal d...           47    Outro   \n",
       "4  TRIBUNAL DE JUSTIÇA DE MINAS GERAIS\\n PODER JU...           74    Outro   \n",
       "\n",
       "                                               pages  \\\n",
       "0  [{'body': 'TJI/AC DIRETORIA JUDICIÁRIA f15.000...   \n",
       "1  [{'body': '  \\n\\nPODER JUDICIÁRIO DO ESTADO DO...   \n",
       "2  [{'body': ' \\n\\nPODER JUDICIÁRIO DO ESTADO DO ...   \n",
       "3  [{'body': 'PODER JUDICIÁRIO DO ESTADO DO ACRE\\...   \n",
       "4  [{'body': \"TRIBUNAL DE JUSTIÇA DE MINAS GERAIS...   \n",
       "\n",
       "                                                path source_pages  \n",
       "0  /raw/339/AI_855054/AI_855054_1181350_47_300520...        first  \n",
       "1  /raw/339/AI_855054/AI_855054_1181361_1272_3005...        first  \n",
       "2  /raw/339/AI_855433/AI_855433_1231718_1060_3005...        first  \n",
       "3  /raw/339/AI_855435/AI_855435_1232534_1060_3105...        first  \n",
       "4  /raw/339/AI_858116/AI_858116_2424429_1060_0408...        first  "
      ]
     },
     "execution_count": 44,
     "metadata": {},
     "output_type": "execute_result"
    }
   ],
   "source": [
    "with ZipFile('data/Annotation-24-08-2018.zip') as zip_dir:\n",
    "    df_review_dump = pd.read_csv(zip_dir.open('dataset-old-reviewed-low_trust-16-08-2018.csv'))\n",
    "df_review_dump.head()"
   ]
  },
  {
   "cell_type": "code",
   "execution_count": 45,
   "metadata": {},
   "outputs": [
    {
     "data": {
      "application/vnd.jupyter.widget-view+json": {
       "model_id": "e05e1c1fc1de4d0784461cc6bbe0399e",
       "version_major": 2,
       "version_minor": 0
      },
      "text/plain": [
       "HBox(children=(IntProgress(value=0, max=8161), HTML(value='')))"
      ]
     },
     "metadata": {},
     "output_type": "display_data"
    },
    {
     "data": {
      "application/vnd.jupyter.widget-view+json": {
       "model_id": "15aff0d39227470d95f175b6ad9dd7ad",
       "version_major": 2,
       "version_minor": 0
      },
      "text/plain": [
       "HBox(children=(IntProgress(value=0, max=8161), HTML(value='')))"
      ]
     },
     "metadata": {},
     "output_type": "display_data"
    },
    {
     "data": {
      "application/vnd.jupyter.widget-view+json": {
       "model_id": "187bff18e3694e8eb6de6f2a4a254159",
       "version_major": 2,
       "version_minor": 0
      },
      "text/plain": [
       "HBox(children=(IntProgress(value=0, max=8161), HTML(value='')))"
      ]
     },
     "metadata": {},
     "output_type": "display_data"
    }
   ],
   "source": [
    "df_review_dump['pages'] = df_review_dump.progress_apply(gen_pages, axis=1)\n",
    "df_review_dump['first_page'] = df_review_dump.progress_apply(first_page, axis=1)\n",
    "df_review_dump['page_hash'] = df_review_dump.progress_apply(concat_doc, axis=1)"
   ]
  },
  {
   "cell_type": "code",
   "execution_count": 46,
   "metadata": {},
   "outputs": [
    {
     "name": "stdout",
     "output_type": "stream",
     "text": [
      "# total docs:  8161\n",
      "# docs duplicates:  0\n",
      "# docs with conflict labels:  0\n",
      "# docs keeping first:  8161\n"
     ]
    }
   ],
   "source": [
    "total_review, count_review, df_dups_review, df_review_free, new_review_labels_conflict = report_duplicated(df_review_dump, 'page_hash')"
   ]
  },
  {
   "cell_type": "markdown",
   "metadata": {},
   "source": [
    "## 01-08-2018"
   ]
  },
  {
   "cell_type": "code",
   "execution_count": 240,
   "metadata": {},
   "outputs": [],
   "source": [
    "with ZipFile('data/Annotation-01-08-2018.zip') as zip_dir:\n",
    "    df_new_dump = pd.read_csv(zip_dir.open('dataset_pecas_ext-01_08.csv'), sep=';')"
   ]
  },
  {
   "cell_type": "code",
   "execution_count": 241,
   "metadata": {},
   "outputs": [
    {
     "data": {
      "application/vnd.jupyter.widget-view+json": {
       "model_id": "71315b3ed50047de8b59f8cdacc1e453",
       "version_major": 2,
       "version_minor": 0
      },
      "text/plain": [
       "HBox(children=(IntProgress(value=0, max=7644), HTML(value='')))"
      ]
     },
     "metadata": {},
     "output_type": "display_data"
    },
    {
     "data": {
      "application/vnd.jupyter.widget-view+json": {
       "model_id": "2117750028ac493fa2233f7bee242d14",
       "version_major": 2,
       "version_minor": 0
      },
      "text/plain": [
       "HBox(children=(IntProgress(value=0, max=7644), HTML(value='')))"
      ]
     },
     "metadata": {},
     "output_type": "display_data"
    },
    {
     "data": {
      "application/vnd.jupyter.widget-view+json": {
       "model_id": "6f6a1243cb064eb58d44d3785e056034",
       "version_major": 2,
       "version_minor": 0
      },
      "text/plain": [
       "HBox(children=(IntProgress(value=0, max=7644), HTML(value='')))"
      ]
     },
     "metadata": {},
     "output_type": "display_data"
    }
   ],
   "source": [
    "## Process dump to generate textual data to compare\n",
    "\n",
    "df_new_dump['pages'] = df_new_dump.progress_apply(lambda x: eval(x.pages), axis=1)\n",
    "df_new_dump['first_page'] = df_new_dump.progress_apply(lambda x: x.pages[0]['body'], axis=1)\n",
    "df_new_dump['page_hash'] = df_new_dump.progress_apply(lambda x: ' '.join([hashlib.sha256(doc['body'].encode('utf8')).hexdigest() for doc in x.pages]), axis=1)"
   ]
  },
  {
   "cell_type": "code",
   "execution_count": 242,
   "metadata": {},
   "outputs": [
    {
     "name": "stdout",
     "output_type": "stream",
     "text": [
      "# total docs:  7644\n",
      "# docs duplicates:  1015\n",
      "# docs with conflict labels:  63\n",
      "# docs keeping first:  6847\n"
     ]
    }
   ],
   "source": [
    "total_new_dump, count_new_dump, df_dups_new_dump, df_new_dump_free, new_dump_labels_conflict = report_duplicated(df_new_dump, 'page_hash')"
   ]
  },
  {
   "cell_type": "markdown",
   "metadata": {},
   "source": [
    "## 26-07-2018"
   ]
  },
  {
   "cell_type": "code",
   "execution_count": 243,
   "metadata": {},
   "outputs": [
    {
     "name": "stdout",
     "output_type": "stream",
     "text": [
      "columns text, document_id, label\n",
      "\n",
      "\tsize of test (3016, 3)\n",
      "\tsize of train (7035, 3)\n",
      "\tconcat size (10051, 3)\n",
      "\n"
     ]
    }
   ],
   "source": [
    "with ZipFile('data/Annotation-26-07-2018.zip') as zip_dir:\n",
    "    df_test_dump = pd.read_csv(zip_dir.open('test_types-26-07-18.csv'))\n",
    "    df_train_dump = pd.read_csv(zip_dir.open('train_types-26-07-18.csv'))\n",
    "df = pd.concat([df_test_dump, df_train_dump], keys=['test', 'train'])\n",
    "print('columns {}\\n\\n\\tsize of test {}\\n\\tsize of train {}\\n\\tconcat size {}\\n'\n",
    "      .format(', '.join(df.columns), df_test_dump.shape, df_train_dump.shape, df.shape))"
   ]
  },
  {
   "cell_type": "code",
   "execution_count": 244,
   "metadata": {},
   "outputs": [
    {
     "name": "stdout",
     "output_type": "stream",
     "text": [
      "Teste 26/07\n",
      "# total docs:  3016\n",
      "# docs duplicates:  534\n",
      "# docs with conflict labels:  12\n",
      "# docs keeping first:  2645\n",
      "Free off duplication:  True\n"
     ]
    }
   ],
   "source": [
    "print('Teste 26/07')\n",
    "total_test, count_test, df_dups_test, df_test_free, test_labels_conflict = report_duplicated(df_test_dump)\n",
    "print('Free off duplication: ', ~df_test_free.duplicated(['first_page', ], keep=False).any())"
   ]
  },
  {
   "cell_type": "code",
   "execution_count": 245,
   "metadata": {},
   "outputs": [
    {
     "name": "stdout",
     "output_type": "stream",
     "text": [
      "Train 26/07\n",
      "# total docs:  7035\n",
      "# docs duplicates:  1985\n",
      "# docs with conflict labels:  87\n",
      "# docs keeping first:  5692\n",
      "Free off duplication:  True\n"
     ]
    }
   ],
   "source": [
    "print('Train 26/07')\n",
    "total_train, count_train, df_dups_train, df_train_free, train_labels_conflict = report_duplicated(df_train_dump)\n",
    "print('Free off duplication: ', ~df_train_free.duplicated('first_page', keep=False).any())"
   ]
  },
  {
   "cell_type": "code",
   "execution_count": 246,
   "metadata": {},
   "outputs": [
    {
     "name": "stdout",
     "output_type": "stream",
     "text": [
      "Concatenated 26/07\n",
      "# total docs:  8337\n",
      "# docs duplicates:  1114\n",
      "# docs with conflict labels:  36\n",
      "# docs keeping first:  7762\n",
      "Free off duplication:  True\n"
     ]
    }
   ],
   "source": [
    "print('Concatenated 26/07')\n",
    "df_dump = pd.concat([df_test_free, df_train_free], keys=['test', 'train'])\n",
    "total_dump, count_dump, df_dups_dump, df_dump_free, dump_labels_conflict = report_duplicated(df_dump)\n",
    "print('Free off duplication: ', ~df_dump_free.duplicated('first_page', keep=False).any())"
   ]
  },
  {
   "cell_type": "markdown",
   "metadata": {},
   "source": [
    "## 27-06-2018"
   ]
  },
  {
   "cell_type": "code",
   "execution_count": 247,
   "metadata": {},
   "outputs": [
    {
     "data": {
      "text/plain": [
       "((7408, 2), (1056, 2), (2118, 2))"
      ]
     },
     "execution_count": 247,
     "metadata": {},
     "output_type": "execute_result"
    }
   ],
   "source": [
    "path_train='data/27-06-2018-Treino-Tag-pre-processed.csv'\n",
    "df_train = pd.read_csv(path_train, usecols=['label', 'text'])\n",
    "\n",
    "path_test='data/27-06-2018-Teste-Tag-pre-processed.csv'\n",
    "df_test = pd.read_csv(path_test, usecols=['label', 'text'])\n",
    "\n",
    "path_validation='data/27-06-2018-Validacao-Tag-pre-processed.csv'\n",
    "df_validation = pd.read_csv(path_validation, usecols=['label', 'text'])\n",
    "\n",
    "df_train.shape, df_test.shape, df_validation.shape"
   ]
  },
  {
   "cell_type": "code",
   "execution_count": 248,
   "metadata": {},
   "outputs": [
    {
     "name": "stdout",
     "output_type": "stream",
     "text": [
      "Train 27/06\n",
      "# total docs:  7408\n",
      "# docs duplicates:  2676\n",
      "# docs with conflict labels:  206\n",
      "# docs keeping first:  5621\n"
     ]
    }
   ],
   "source": [
    "print('Train 27/06')\n",
    "df_train['document_id'] = np.empty(df_train.index.size)\n",
    "total_train, count_train, df_dups_train, df_train_free, train_labels_conflict = report_duplicated(df_train)"
   ]
  },
  {
   "cell_type": "code",
   "execution_count": 249,
   "metadata": {},
   "outputs": [
    {
     "name": "stdout",
     "output_type": "stream",
     "text": [
      "Validation 27/06\n",
      "# total docs:  2118\n",
      "# docs duplicates:  316\n",
      "# docs with conflict labels:  57\n",
      "# docs keeping first:  1898\n"
     ]
    }
   ],
   "source": [
    "print('Validation 27/06')\n",
    "df_validation['document_id'] = np.empty(df_validation.index.size)\n",
    "total_validation, count_validation, df_dups_validation, df_validation_free, validation_labels_conflict = report_duplicated(df_validation)"
   ]
  },
  {
   "cell_type": "code",
   "execution_count": 250,
   "metadata": {},
   "outputs": [
    {
     "name": "stdout",
     "output_type": "stream",
     "text": [
      "Test 27/06\n",
      "# total docs:  1056\n",
      "# docs duplicates:  99\n",
      "# docs with conflict labels:  4\n",
      "# docs keeping first:  987\n"
     ]
    }
   ],
   "source": [
    "print('Test 27/06')\n",
    "df_test['document_id'] = np.empty(df_test.index.size)\n",
    "total_test, count_test, df_dups_test, df_test_free, test_labels_conflict = report_duplicated(df_test)"
   ]
  },
  {
   "cell_type": "code",
   "execution_count": 251,
   "metadata": {},
   "outputs": [
    {
     "name": "stdout",
     "output_type": "stream",
     "text": [
      "Concatenated 27/06\n",
      "# total docs:  8506\n",
      "# docs duplicates:  794\n",
      "# docs with conflict labels:  74\n",
      "# docs keeping first:  8057\n"
     ]
    }
   ],
   "source": [
    "print('Concatenated 27/06')\n",
    "df = pd.concat([df_train_free, df_validation_free, df_test_free], keys=['train', 'validation', 'test'])\n",
    "total, count, df_dups, df_free, labels_conflict = report_duplicated(df)"
   ]
  },
  {
   "cell_type": "markdown",
   "metadata": {},
   "source": [
    "# Split dataset"
   ]
  },
  {
   "cell_type": "code",
   "execution_count": 49,
   "metadata": {},
   "outputs": [],
   "source": [
    "def split_dataset(df, groupby='first_page'):\n",
    "    train = df.groupby('label', group_keys=False).apply(lambda x: x.sample(frac=0.7, random_state=5602))\n",
    "    rest = df[~df.index.isin(train.index)]\n",
    "    validation = rest.groupby('label', group_keys=False).apply(lambda x: x.sample(frac=2.0/3.0, random_state=5602))\n",
    "    test = rest[~rest.index.isin(validation.index)]\n",
    "    # Assert that datasets hasn't shared data\n",
    "    assert not pd.concat([train, test, validation]).duplicated([groupby], keep=False).any(), \"Has some first page duplicated\"\n",
    "    \n",
    "    counts = df.label.value_counts()\n",
    "    data = np.array([counts, train.label.value_counts(), validation.label.value_counts(), test.label.value_counts(), counts.index])\n",
    "    inds = np.arange(counts.size)\n",
    "    plt.bar(inds - 0.2, data[0], width=0.5)\n",
    "    plt.bar(inds - 0.1, data[1], width=0.5)\n",
    "    plt.bar(inds + 0.1, data[2], width=0.5)\n",
    "    plt.bar(inds + 0.2, data[3], width=0.5)\n",
    "    plt.xticks(inds, counts.index)\n",
    "\n",
    "    return data, train, validation, test\n",
    "    "
   ]
  },
  {
   "cell_type": "markdown",
   "metadata": {},
   "source": [
    "# 24-08-2018"
   ]
  },
  {
   "cell_type": "code",
   "execution_count": 50,
   "metadata": {},
   "outputs": [
    {
     "data": {
      "image/png": "[encoded data removed]",
      "text/plain": [
       "<Figure size 432x288 with 1 Axes>"
      ]
     },
     "metadata": {},
     "output_type": "display_data"
    }
   ],
   "source": [
    "_, review_train, review_validation, review_test = split_dataset(df_review_free, 'page_hash')"
   ]
  },
  {
   "cell_type": "code",
   "execution_count": 52,
   "metadata": {},
   "outputs": [],
   "source": [
    "review_train.to_csv('data/train-24-08-2018.csv', index=False)\n",
    "\n",
    "review_validation.to_csv('data/validation-24-08-2018.csv', index=False)\n",
    "\n",
    "review_test.to_csv('data/test-24-08-2018.csv', index=False)"
   ]
  },
  {
   "cell_type": "markdown",
   "metadata": {},
   "source": [
    "## 01-08-2018"
   ]
  },
  {
   "cell_type": "code",
   "execution_count": 253,
   "metadata": {},
   "outputs": [
    {
     "data": {
      "text/plain": [
       "array([[2802, 1096, 915, 819, 628, 554, 17, 16],\n",
       "       [1961, 767, 640, 573, 440, 388, 12, 11],\n",
       "       [561, 219, 183, 164, 125, 111, 3, 3],\n",
       "       [280, 110, 92, 82, 63, 55, 2, 2],\n",
       "       ['Outro', 'Sent.', 'ARE', 'Acordão', 'RE', 'Desp.', 'D. Agrav',\n",
       "        'P. Agrav']], dtype=object)"
      ]
     },
     "execution_count": 253,
     "metadata": {},
     "output_type": "execute_result"
    },
    {
     "data": {
      "image/png": "[encoded data removed]",
      "text/plain": [
       "<Figure size 432x288 with 1 Axes>"
      ]
     },
     "metadata": {},
     "output_type": "display_data"
    }
   ],
   "source": [
    "_, new_dump_train, new_dump_validation, new_dump_test = split_dataset(df_new_dump_free, 'page_hash')\n",
    "_"
   ]
  },
  {
   "cell_type": "code",
   "execution_count": 254,
   "metadata": {},
   "outputs": [],
   "source": [
    "new_dump_train.to_csv('data/train-01-08-2018-wo-duplicates.csv', index=False)\n",
    "\n",
    "new_dump_validation.to_csv('data/validation-01-08-2018-wo-duplicates.csv', index=False)\n",
    "\n",
    "new_dump_test.to_csv('data/test-01-08-2018-wo-duplicates.csv', index=False)"
   ]
  },
  {
   "cell_type": "markdown",
   "metadata": {},
   "source": [
    "## 26-07-2018"
   ]
  },
  {
   "cell_type": "code",
   "execution_count": null,
   "metadata": {},
   "outputs": [],
   "source": [
    "_, dump_train, dump_validation, dump_test = split_dataset(df_dump_free)\n",
    "_"
   ]
  },
  {
   "cell_type": "code",
   "execution_count": 22,
   "metadata": {},
   "outputs": [],
   "source": [
    "dump_train.to_csv('data/train-26-07-2018-wo-duplicates.csv', index=False)\n",
    "\n",
    "dump_validation.to_csv('data/validation-26-07-2018-wo-duplicates.csv', index=False)\n",
    "\n",
    "dump_test.to_csv('data/test-26-07-2018-wo-duplicates.csv', index=False)"
   ]
  },
  {
   "cell_type": "markdown",
   "metadata": {},
   "source": [
    "## 27-06-2018"
   ]
  },
  {
   "cell_type": "code",
   "execution_count": 23,
   "metadata": {},
   "outputs": [
    {
     "data": {
      "text/plain": [
       "array([[3424, 1274, 1128, 973, 615, 562, 59, 22],\n",
       "       [2397, 892, 790, 681, 430, 393, 41, 15],\n",
       "       [685, 255, 225, 195, 123, 113, 12, 5],\n",
       "       [342, 127, 113, 97, 62, 56, 6, 2],\n",
       "       ['Outro', 'ARE', 'Sent.', 'Acordao', 'RE', 'Desp.', 'P. Agrav',\n",
       "        'D. Agrav']], dtype=object)"
      ]
     },
     "execution_count": 23,
     "metadata": {},
     "output_type": "execute_result"
    },
    {
     "data": {
      "image/png": "[encoded data removed]",
      "text/plain": [
       "<Figure size 432x288 with 1 Axes>"
      ]
     },
     "metadata": {},
     "output_type": "display_data"
    }
   ],
   "source": [
    "_, train, validation, test = split_dataset(df_free)\n",
    "_"
   ]
  },
  {
   "cell_type": "code",
   "execution_count": 24,
   "metadata": {},
   "outputs": [],
   "source": [
    "train.to_csv('data/train-27-06-2018-wo-duplicates.csv', index=False)\n",
    "\n",
    "validation.to_csv('data/validation-27-06-2018-wo-duplicates.csv', index=False)\n",
    "\n",
    "test.to_csv('data/test-27-06-2018-wo-duplicates.csv', index=False)"
   ]
  },
  {
   "cell_type": "markdown",
   "metadata": {},
   "source": [
    "# Validation on Database to LegalLabs"
   ]
  },
  {
   "cell_type": "code",
   "execution_count": 2,
   "metadata": {},
   "outputs": [],
   "source": [
    "# with ZipFile('/home/isis/Annotated_types.zip') as zip_dir:\n",
    "#     df_test = pd.read_csv(zip_dir.open('test_types-26-07-18.csv'))\n",
    "#     df_train = pd.read_csv(zip_dir.open('train_types-26-07-18.csv'))\n",
    "# df = pd.concat([df_test, df_train])\n",
    "# df.shape"
   ]
  },
  {
   "cell_type": "code",
   "execution_count": 3,
   "metadata": {},
   "outputs": [],
   "source": [
    "# texts = df.progress_apply(page_split, axis=1).sort_values('document_id')\n",
    "# texts.head()"
   ]
  },
  {
   "cell_type": "code",
   "execution_count": 4,
   "metadata": {
    "scrolled": true
   },
   "outputs": [],
   "source": [
    "# for idx, doc in texts[~texts.second_page.isnull()].iterrows():\n",
    "#     print('############', idx, '#############\\n', doc.first_page, '--------\\n', doc.second_page)"
   ]
  },
  {
   "cell_type": "code",
   "execution_count": 5,
   "metadata": {},
   "outputs": [],
   "source": [
    "# DSN = \"dbname=postgres user=postgres host=toth.lades.unb.br\""
   ]
  },
  {
   "cell_type": "code",
   "execution_count": 6,
   "metadata": {},
   "outputs": [],
   "source": [
    "# # pages.index = pdfs_documents.page_to - pdfs_documents.page_from\n",
    "# QUERY = \"\"\"\n",
    "# SELECT documents.id as document_id, pages.index as page, pages.body as text FROM documents\n",
    "#     INNER JOIN pages ON documents.id = pages.document_id\n",
    "#     INNER JOIN pdfs_documents ON documents.id = pdfs_documents.document_id\n",
    "#     WHERE (\n",
    "#         (pages.body = %s AND pages.index = 0)\n",
    "#         OR\n",
    "#         (pages.body = %s AND pages.index = 1)\n",
    "#     )\n",
    "#     ORDER BY documents.id, pages.index;\n",
    "# \"\"\"\n",
    "\n",
    "# docs = []\n",
    "# with psycopg2.connect(DSN) as con:\n",
    "#     with con.cursor() as cur:\n",
    "#         for doc in tqdm(texts.apply(lambda x: (x.first_page, x.second_page), axis=1)):\n",
    "#             query = cur.mogrify(QUERY, doc)\n",
    "# #             df_sql = psql.read_sql(QUERY, con)\n",
    "#             cur.execute(query)\n",
    "#             for row in cur.fetchall():\n",
    "#                 docs.append(row)"
   ]
  },
  {
   "cell_type": "code",
   "execution_count": 7,
   "metadata": {
    "scrolled": true
   },
   "outputs": [],
   "source": [
    "# # pd.DataFrame(docs, columns=['document_id', 'page', 'text']).to_csv('/home/isis/dump_pages.csv', index=False)\n",
    "# docs = pd.read_csv('/home/isis/dump_pages.csv')\n",
    "# docs"
   ]
  },
  {
   "cell_type": "code",
   "execution_count": 8,
   "metadata": {},
   "outputs": [],
   "source": [
    "# def pages_to_columns(document):\n",
    "#     unique_documents = document.drop_duplicates(['document_id', 'page'], keep='first')\n",
    "#     pages = unique_documents.text.tolist()\n",
    "#     if len(pages) == 1:\n",
    "#         pages += [None]\n",
    "#     elif len(pages) == 2:\n",
    "#         pass\n",
    "#     else:\n",
    "#         print(pages)\n",
    "#     return pd.Series(pages, index=['first_page', 'second_page'])"
   ]
  },
  {
   "cell_type": "code",
   "execution_count": 9,
   "metadata": {},
   "outputs": [],
   "source": [
    "# ndocs = docs.groupby('document_id').progress_apply(pages_to_columns).reset_index()\n",
    "\n",
    "# texts = df_dump_free.progress_apply(page_split, axis=1)"
   ]
  },
  {
   "cell_type": "code",
   "execution_count": 10,
   "metadata": {},
   "outputs": [],
   "source": [
    "# display(ndocs.head())\n",
    "# display(ndocs.shape)\n",
    "# display(texts.head())\n",
    "# display(texts.shape)"
   ]
  },
  {
   "cell_type": "code",
   "execution_count": 11,
   "metadata": {
    "scrolled": true
   },
   "outputs": [],
   "source": [
    "# texts[texts.first_page.isin(ndocs.first_page)]"
   ]
  }
 ],
 "metadata": {
  "kernelspec": {
   "display_name": "Python 3",
   "language": "python",
   "name": "python3"
  },
  "language_info": {
   "codemirror_mode": {
    "name": "ipython",
    "version": 3
   },
   "file_extension": ".py",
   "mimetype": "text/x-python",
   "name": "python",
   "nbconvert_exporter": "python",
   "pygments_lexer": "ipython3",
   "version": "3.8.5"
  },
  "toc": {
   "base_numbering": 1,
   "nav_menu": {},
   "number_sections": false,
   "sideBar": true,
   "skip_h1_title": false,
   "title_cell": "Table of Contents",
   "title_sidebar": "Contents",
   "toc_cell": false,
   "toc_position": {},
   "toc_section_display": true,
   "toc_window_display": false
  }
 },
 "nbformat": 4,
 "nbformat_minor": 4
}
